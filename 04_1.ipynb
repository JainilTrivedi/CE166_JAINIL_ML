{
 "cells": [
  {
   "cell_type": "code",
   "execution_count": 1,
   "id": "ddaaaa59",
   "metadata": {},
   "outputs": [],
   "source": [
    "import numpy as np\n",
    "import torch\n",
    "import tensorflow as tf"
   ]
  },
  {
   "cell_type": "code",
   "execution_count": 2,
   "id": "ac132488",
   "metadata": {},
   "outputs": [],
   "source": [
    "inputs = np.array([[73, 67, 43],\n",
    "                   [91, 88, 64],\n",
    "                   [87, 134, 58],\n",
    "                   [102, 43, 37],\n",
    "                   [69, 96, 70]], dtype='float32')"
   ]
  },
  {
   "cell_type": "code",
   "execution_count": 3,
   "id": "2e2fc90f",
   "metadata": {},
   "outputs": [
    {
     "data": {
      "text/plain": [
       "(5, 1)"
      ]
     },
     "execution_count": 3,
     "metadata": {},
     "output_type": "execute_result"
    }
   ],
   "source": [
    "targets = np.array([[56],\n",
    "                   [81],\n",
    "                   [119],\n",
    "                   [22],\n",
    "                   [103]],dtype = \"float32\")\n",
    "targets.shape"
   ]
  },
  {
   "cell_type": "code",
   "execution_count": 4,
   "id": "d3fdad6f",
   "metadata": {},
   "outputs": [
    {
     "data": {
      "text/plain": [
       "torch.Tensor"
      ]
     },
     "execution_count": 4,
     "metadata": {},
     "output_type": "execute_result"
    }
   ],
   "source": [
    "inputs = torch.from_numpy(inputs)\n",
    "type(inputs)\n",
    "targets = torch.from_numpy(targets)\n",
    "type(targets)"
   ]
  },
  {
   "cell_type": "markdown",
   "id": "b4e0dbef",
   "metadata": {},
   "source": [
    "# Linear Regression Implementation"
   ]
  },
  {
   "cell_type": "code",
   "execution_count": 5,
   "id": "d44841c6",
   "metadata": {},
   "outputs": [
    {
     "name": "stdout",
     "output_type": "stream",
     "text": [
      "tensor([[ 1.9419,  0.2796, -0.6441],\n",
      "        [ 0.0491, -1.7133, -0.1375]], requires_grad=True)\n",
      "tensor([-0.8677, -0.2442], requires_grad=True)\n"
     ]
    }
   ],
   "source": [
    "weight = torch.randn(2, 3, requires_grad=True)\n",
    "bias = torch.randn(2, requires_grad=True)\n",
    "print(weight)\n",
    "print(bias)\n"
   ]
  },
  {
   "cell_type": "code",
   "execution_count": 6,
   "id": "adb76a1d",
   "metadata": {},
   "outputs": [
    {
     "name": "stdout",
     "output_type": "stream",
     "text": [
      "<class 'torch.Tensor'>\n"
     ]
    },
    {
     "data": {
      "text/plain": [
       "torch.Tensor"
      ]
     },
     "execution_count": 6,
     "metadata": {},
     "output_type": "execute_result"
    }
   ],
   "source": [
    "print(type(inputs))\n",
    "type(weight.t())"
   ]
  },
  {
   "cell_type": "code",
   "execution_count": 7,
   "id": "0bfc8edf",
   "metadata": {},
   "outputs": [
    {
     "data": {
      "text/plain": [
       "tensor([[ 131.9233, -117.3595],\n",
       "        [ 159.2214, -155.3412],\n",
       "        [ 168.1791, -233.5236],\n",
       "        [ 185.3928,  -73.9913],\n",
       "        [ 114.8718, -170.9530]], grad_fn=<AddBackward0>)"
      ]
     },
     "execution_count": 7,
     "metadata": {},
     "output_type": "execute_result"
    }
   ],
   "source": [
    "\n",
    "torch.matmul(inputs,weight.t()) + bias"
   ]
  },
  {
   "cell_type": "code",
   "execution_count": 8,
   "id": "6f1cce6f",
   "metadata": {},
   "outputs": [
    {
     "data": {
      "text/plain": [
       "tensor([[ 73.,  67.,  43.],\n",
       "        [ 91.,  88.,  64.],\n",
       "        [ 87., 134.,  58.],\n",
       "        [102.,  43.,  37.],\n",
       "        [ 69.,  96.,  70.]])"
      ]
     },
     "execution_count": 8,
     "metadata": {},
     "output_type": "execute_result"
    }
   ],
   "source": [
    "inputs"
   ]
  },
  {
   "cell_type": "code",
   "execution_count": 9,
   "id": "1fca7122",
   "metadata": {},
   "outputs": [
    {
     "name": "stdout",
     "output_type": "stream",
     "text": [
      "torch.Size([5, 2])\n",
      "<class 'torch.Tensor'>\n"
     ]
    },
    {
     "data": {
      "text/plain": [
       "tensor([[ 131.9233, -117.3595],\n",
       "        [ 159.2214, -155.3412],\n",
       "        [ 168.1791, -233.5236],\n",
       "        [ 185.3928,  -73.9913],\n",
       "        [ 114.8718, -170.9530]], grad_fn=<AddBackward0>)"
      ]
     },
     "execution_count": 9,
     "metadata": {},
     "output_type": "execute_result"
    }
   ],
   "source": [
    "def model(inputs):\n",
    "    return torch.matmul(inputs,weight.t()) + bias\n",
    "prediction = model(inputs)\n",
    "print(prediction.shape)\n",
    "print(type(prediction))\n",
    "prediction\n"
   ]
  },
  {
   "cell_type": "markdown",
   "id": "5256db49",
   "metadata": {},
   "source": [
    "## Loss Finction"
   ]
  },
  {
   "cell_type": "code",
   "execution_count": 10,
   "id": "97421635",
   "metadata": {},
   "outputs": [
    {
     "name": "stdout",
     "output_type": "stream",
     "text": [
      "tensor([[  75.9233, -173.3595],\n",
      "        [  78.2214, -236.3412],\n",
      "        [  49.1791, -352.5236],\n",
      "        [ 163.3928,  -95.9913],\n",
      "        [  11.8718, -273.9530]], grad_fn=<SubBackward0>)\n",
      "tensor(33558.7812, grad_fn=<DivBackward0>)\n"
     ]
    }
   ],
   "source": [
    "# print(prediction)\n",
    "# print(targets)\n",
    "dif = prediction - targets\n",
    "print(dif)\n",
    "print(torch.sum(dif*dif) / dif.numel())"
   ]
  },
  {
   "cell_type": "code",
   "execution_count": 11,
   "id": "aa858e4e",
   "metadata": {},
   "outputs": [
    {
     "data": {
      "text/plain": [
       "tensor(33558.7812, grad_fn=<DivBackward0>)"
      ]
     },
     "execution_count": 11,
     "metadata": {},
     "output_type": "execute_result"
    }
   ],
   "source": [
    "def MSE(a,b):\n",
    "    diff = a-b\n",
    "    return torch.sum(diff*diff) / diff.numel()\n",
    "mse = MSE(prediction,targets)\n",
    "mse"
   ]
  },
  {
   "cell_type": "markdown",
   "id": "175cb10a",
   "metadata": {},
   "source": [
    "## Compute Gradients"
   ]
  },
  {
   "cell_type": "code",
   "execution_count": 12,
   "id": "8169df99",
   "metadata": {},
   "outputs": [
    {
     "name": "stdout",
     "output_type": "stream",
     "text": [
      "Weight grad:\n",
      " tensor([[  6884.8716,   5345.1865,   3599.9648],\n",
      "        [-18705.1426, -22015.6777, -13151.0098]])\n",
      "Bias grad:\n",
      " tensor([  75.7177, -226.4337])\n"
     ]
    }
   ],
   "source": [
    "mse.backward()\n",
    "print(\"Weight grad:\\n\" , weight.grad)\n",
    "print(\"Bias grad:\\n\" , bias.grad)"
   ]
  },
  {
   "cell_type": "markdown",
   "id": "89691f00",
   "metadata": {},
   "source": [
    "## Trainning using gradient descent"
   ]
  },
  {
   "cell_type": "code",
   "execution_count": 13,
   "id": "c174d6dd",
   "metadata": {},
   "outputs": [],
   "source": [
    "with torch.no_grad():\n",
    "    weight -= weight.grad * 1e-5\n",
    "    bias -= bias.grad * 1e-5\n",
    "    weight.grad.zero_()\n",
    "    bias.grad.zero_()"
   ]
  },
  {
   "cell_type": "code",
   "execution_count": 14,
   "id": "e482fa73",
   "metadata": {},
   "outputs": [
    {
     "data": {
      "text/plain": [
       "tensor(23572.3340, grad_fn=<DivBackward0>)"
      ]
     },
     "execution_count": 14,
     "metadata": {},
     "output_type": "execute_result"
    }
   ],
   "source": [
    "prediction = model(inputs)\n",
    "mse = MSE(prediction, targets)\n",
    "mse"
   ]
  },
  {
   "cell_type": "code",
   "execution_count": 15,
   "id": "31f50eca",
   "metadata": {},
   "outputs": [],
   "source": [
    "for i in range(100):\n",
    "    prediction = model(inputs)\n",
    "    mse = MSE(prediction, targets)\n",
    "    mse.backward()\n",
    "    with torch.no_grad():\n",
    "        weight -= weight.grad * 1e-5\n",
    "        bias -= bias.grad * 1e-5\n",
    "        weight.grad.zero_()\n",
    "        bias.grad.zero_()"
   ]
  },
  {
   "cell_type": "code",
   "execution_count": 16,
   "id": "6d7c34f3",
   "metadata": {},
   "outputs": [
    {
     "name": "stdout",
     "output_type": "stream",
     "text": [
      "currr mse:\t tensor(905.4383, grad_fn=<DivBackward0>)\n",
      "tensor([[ 67.4012,  65.6756],\n",
      "        [ 80.0241,  89.3095],\n",
      "        [107.1987,  88.8570],\n",
      "        [ 80.5104,  70.9118],\n",
      "        [ 63.2697,  85.1508]], grad_fn=<AddBackward0>)\n",
      "tensor([[ 56.],\n",
      "        [ 81.],\n",
      "        [119.],\n",
      "        [ 22.],\n",
      "        [103.]])\n"
     ]
    }
   ],
   "source": [
    "prediction = model(inputs)\n",
    "mse = MSE(prediction, targets)\n",
    "print(\"currr mse:\\t\",mse)\n",
    "print(prediction)\n",
    "print(targets)"
   ]
  },
  {
   "cell_type": "code",
   "execution_count": null,
   "id": "594bdf31",
   "metadata": {},
   "outputs": [],
   "source": []
  }
 ],
 "metadata": {
  "kernelspec": {
   "display_name": "Python 3 (ipykernel)",
   "language": "python",
   "name": "python3"
  },
  "language_info": {
   "codemirror_mode": {
    "name": "ipython",
    "version": 3
   },
   "file_extension": ".py",
   "mimetype": "text/x-python",
   "name": "python",
   "nbconvert_exporter": "python",
   "pygments_lexer": "ipython3",
   "version": "3.8.0"
  }
 },
 "nbformat": 4,
 "nbformat_minor": 5
}
