{
 "cells": [
  {
   "cell_type": "markdown",
   "id": "8f223fad",
   "metadata": {},
   "source": [
    "# Linear algebra in Python with NumPy"
   ]
  },
  {
   "cell_type": "code",
   "execution_count": 3,
   "id": "d32bebb1",
   "metadata": {},
   "outputs": [],
   "source": [
    "import numpy as np\n",
    "import pandas as pd"
   ]
  },
  {
   "cell_type": "code",
   "execution_count": 4,
   "id": "3b11fdf3",
   "metadata": {},
   "outputs": [
    {
     "name": "stdout",
     "output_type": "stream",
     "text": [
      "[[1 2 3 4 5]\n",
      " [5 4 3 2 1]\n",
      " [1 2 3 4 5]\n",
      " [5 4 3 2 1]\n",
      " [1 2 3 4 5]]\n"
     ]
    }
   ],
   "source": [
    "#1,2] Create a numpy array of size 4x5 and randomly initialise the arrray\n",
    "arr = np.array([ (1,2,3,4,5),(5,4,3,2,1),(1,2,3,4,5),(5,4,3,2,1),(1,2,3,4,5)])\n",
    "print(arr)"
   ]
  },
  {
   "cell_type": "code",
   "execution_count": 5,
   "id": "e0667338",
   "metadata": {},
   "outputs": [
    {
     "name": "stdout",
     "output_type": "stream",
     "text": [
      "[[ 1  2  3]\n",
      " [11 12 13]\n",
      " [21 22 23]\n",
      " [31 32 33]]\n",
      "[[ 1 11 21 31]\n",
      " [ 2 12 22 32]\n",
      " [ 3 13 23 33]]\n",
      "determinant of arr is 0.0\n"
     ]
    }
   ],
   "source": [
    "#3] Get the Transpose of the Matrix that you created. Create a square matrix and find its determinant.\n",
    "arr1 = np.array([(1,2,3),(11,12,13),(21,22,23),(31,32,33)])\n",
    "print(arr1)\n",
    "# arr1.T = Transpose of a matrix\n",
    "print(arr1.T)\n",
    "print(\"determinant of arr is \"+ str(np.linalg.det(arr)))"
   ]
  },
  {
   "cell_type": "code",
   "execution_count": 6,
   "id": "ffa488ac",
   "metadata": {},
   "outputs": [
    {
     "name": "stdout",
     "output_type": "stream",
     "text": [
      "[[11 12 13 14]\n",
      " [21 22 23 24]\n",
      " [31 32 33 34]\n",
      " [41 42 43 44]\n",
      " [51 52 53 54]]\n"
     ]
    }
   ],
   "source": [
    "#4] Create another matrix of size 5 x 4 and randomly initialize it.\n",
    "arr2 = np.array( [[11,12,13,14],[21,22,23,24],[31,32,33,34],[41,42,43,44],[51,52,53,54]])\n",
    "print(arr2)"
   ]
  },
  {
   "cell_type": "code",
   "execution_count": 7,
   "id": "97447f1d",
   "metadata": {},
   "outputs": [
    {
     "name": "stdout",
     "output_type": "stream",
     "text": [
      "[[154 152 150 148 146]\n",
      " [274 272 270 268 266]\n",
      " [394 392 390 388 386]\n",
      " [514 512 510 508 506]\n",
      " [634 632 630 628 626]]\n"
     ]
    }
   ],
   "source": [
    "#5] Perform Matrix multiplication.\n",
    "arr3 = np.array([ [1,2,3,4,5],[5,4,3,2,1],[1,2,3,4,5],[5,4,3,2,1]])\n",
    "print(np.matmul(arr2,arr3))"
   ]
  },
  {
   "cell_type": "code",
   "execution_count": 8,
   "id": "d04c45f9",
   "metadata": {},
   "outputs": [
    {
     "name": "stdout",
     "output_type": "stream",
     "text": [
      "[[ 1  4]\n",
      " [ 9 16]]\n"
     ]
    }
   ],
   "source": [
    "#6) Perform element wise matrix multiplication.\n",
    "# print(arr2*arr3)   #why this line is giving error\n",
    "a = np.array([ [1,2],[3,4]])\n",
    "print(a*a)"
   ]
  },
  {
   "cell_type": "code",
   "execution_count": 9,
   "id": "6a847fc3",
   "metadata": {},
   "outputs": [
    {
     "name": "stdout",
     "output_type": "stream",
     "text": [
      "mean is 2.5\n",
      "median is 2.5\n"
     ]
    }
   ],
   "source": [
    "#7) Find mean, median of the numpy array created.\n",
    "print(\"mean is \"+str(np.mean(a)))\n",
    "print(\"median is \"+str(np.median(a)))"
   ]
  },
  {
   "cell_type": "code",
   "execution_count": 10,
   "id": "4c927e34",
   "metadata": {},
   "outputs": [
    {
     "name": "stdout",
     "output_type": "stream",
     "text": [
      "[2 5]\n"
     ]
    }
   ],
   "source": [
    "#8) Obtain each row in the second column of the first array.\n",
    "tmpA = np.array([[1,2,3],[4,5,6]])\n",
    "print(tmpA[:,1])\n"
   ]
  },
  {
   "cell_type": "code",
   "execution_count": 12,
   "id": "28b3c964",
   "metadata": {},
   "outputs": [
    {
     "name": "stdout",
     "output_type": "stream",
     "text": [
      "After mean: \n",
      "       Id  PetalLengthCm  PetalWidthCm  SepalLengthCm  SepalWidthCm Species\n",
      "0   -74.5      -2.358667     -0.998667      -0.743333         0.446     NaN\n",
      "1   -73.5      -2.358667     -0.998667      -0.943333        -0.054     NaN\n",
      "2   -72.5      -2.458667     -0.998667      -1.143333         0.146     NaN\n",
      "3   -71.5      -2.258667     -0.998667      -1.243333         0.046     NaN\n",
      "4   -70.5      -2.358667     -0.998667      -0.843333         0.546     NaN\n",
      "..    ...            ...           ...            ...           ...     ...\n",
      "145  70.5       1.441333      1.101333       0.856667        -0.054     NaN\n",
      "146  71.5       1.241333      0.701333       0.456667        -0.554     NaN\n",
      "147  72.5       1.441333      0.801333       0.656667        -0.054     NaN\n",
      "148  73.5       1.641333      1.101333       0.356667         0.346     NaN\n",
      "149  74.5       1.341333      0.601333       0.056667        -0.054     NaN\n",
      "\n",
      "[150 rows x 6 columns]\n"
     ]
    },
    {
     "name": "stderr",
     "output_type": "stream",
     "text": [
      "C:\\Users\\Jainil\\AppData\\Local\\Programs\\Python\\Python310\\lib\\site-packages\\numpy\\core\\fromnumeric.py:3438: FutureWarning: Dropping of nuisance columns in DataFrame reductions (with 'numeric_only=None') is deprecated; in a future version this will raise TypeError.  Select only valid columns before calling the reduction.\n",
      "  return mean(axis=axis, dtype=dtype, out=out, **kwargs)\n"
     ]
    }
   ],
   "source": [
    "#9) Convert Numeric entries(columns) of Iris.csv to Mean Centered Version\n",
    "# tmpB = np.array([[3,4],[5,6],[7,8]])\n",
    "# print(\"Before Mean Centered\"+ str(tmpB))\n",
    "# tmpB = tmpB - np.mean(tmpB,axis=0)\n",
    "# print(\"After Mean Centered\"+ str(tmpB))\n",
    "data = pd.read_csv(r'C:\\Users\\Jainil\\Desktop\\Jainil\\JUPYTER_NOTEBOOK\\ML_LABS\\Iris.csv')\n",
    "# print(\"Before mean: \\n\"+str(data))\n",
    "nparrrayCentered = data - np.mean(data,axis=0)\n",
    "print(\"After mean: \\n\" + str(nparrrayCentered))"
   ]
  },
  {
   "cell_type": "code",
   "execution_count": 13,
   "id": "19862577",
   "metadata": {},
   "outputs": [
    {
     "name": "stdout",
     "output_type": "stream",
     "text": [
      "2\n",
      "(3, 2)\n",
      "6\n",
      "int32\n",
      "4\n"
     ]
    }
   ],
   "source": [
    "#10) Study about numpy array attributes and implement it on the first matrix.\n",
    "tmpC = np.array([[1,2],[3,4],[5,6]])   #3x2 matrix\n",
    "print(tmpC.ndim)     #represents number of dimensions (axes) of the array\n",
    "print(tmpC.shape)    # is a tuple of integers representing the size of the ndarray in each dimension.\n",
    "print(tmpC.size)     #  total number of elements in the array\n",
    "print(tmpC.dtype)    # the data type of the elements of a NumPy array\n",
    "print(tmpC.itemsize) #returns the size (in bytes) of each element of a NumPy array. "
   ]
  },
  {
   "cell_type": "markdown",
   "id": "3e409ad2",
   "metadata": {},
   "source": [
    "# matplotlib && NLTK"
   ]
  },
  {
   "cell_type": "code",
   "execution_count": 15,
   "id": "e9f4169c",
   "metadata": {},
   "outputs": [],
   "source": [
    "import nltk\n",
    "import matplotlib.pyplot as plt\n",
    "import random\n",
    "import string\n",
    "import re"
   ]
  },
  {
   "cell_type": "code",
   "execution_count": 16,
   "id": "0a39e358",
   "metadata": {},
   "outputs": [],
   "source": [
    "from nltk.corpus import names\n",
    "from nltk.corpus import stopwords\n",
    "from nltk.tokenize import TweetTokenizer\n",
    "from nltk.stem import PorterStemmer"
   ]
  },
  {
   "cell_type": "code",
   "execution_count": 17,
   "id": "c73c6665",
   "metadata": {},
   "outputs": [
    {
     "name": "stderr",
     "output_type": "stream",
     "text": [
      "[nltk_data] Downloading package names to\n",
      "[nltk_data]     C:\\Users\\Jainil\\AppData\\Roaming\\nltk_data...\n",
      "[nltk_data]   Unzipping corpora\\names.zip.\n",
      "[nltk_data] Downloading package stopwords to\n",
      "[nltk_data]     C:\\Users\\Jainil\\AppData\\Roaming\\nltk_data...\n",
      "[nltk_data]   Unzipping corpora\\stopwords.zip.\n"
     ]
    },
    {
     "data": {
      "text/plain": [
       "True"
      ]
     },
     "execution_count": 17,
     "metadata": {},
     "output_type": "execute_result"
    }
   ],
   "source": [
    "nltk.download('names')\n",
    "nltk.download('stopwords')"
   ]
  },
  {
   "cell_type": "code",
   "execution_count": 18,
   "id": "1097cc8b",
   "metadata": {},
   "outputs": [],
   "source": [
    "# print(\"Length of names\\n\"+str(len(names.words())))\n",
    "# print(\"Names\\n\"+str(names.words()))\n",
    "# print(names)"
   ]
  },
  {
   "cell_type": "code",
   "execution_count": 19,
   "id": "f3fcba3b",
   "metadata": {},
   "outputs": [
    {
     "data": {
      "image/png": "[encoded data removed]",
      "text/plain": [
       "<Figure size 216x216 with 1 Axes>"
      ]
     },
     "metadata": {},
     "output_type": "display_data"
    }
   ],
   "source": [
    "# names = ['']\n",
    "fig = plt.figure(figsize=(3,3))\n",
    "labels = 'Lable1','Lable2','Lable3',\n",
    "sizes = [20,40,80]\n",
    "plt.pie(sizes,labels=labels,autopct=('%.2f%%'),shadow=False,startangle=90)\n",
    "plt.axis('equal')\n",
    "plt.show()"
   ]
  },
  {
   "cell_type": "code",
   "execution_count": 20,
   "id": "14f8ed0c",
   "metadata": {},
   "outputs": [
    {
     "name": "stdout",
     "output_type": "stream",
     "text": [
      "!\"#$%&'()*+,-./:;<=>?@[\\]^_`{|}~\n"
     ]
    }
   ],
   "source": [
    "#print(\"stopwords are\\n\"+str(stopwords.words('english')))\n",
    "print(string.punctuation)"
   ]
  },
  {
   "cell_type": "code",
   "execution_count": 21,
   "id": "970f6e67",
   "metadata": {},
   "outputs": [
    {
     "name": "stdout",
     "output_type": "stream",
     "text": [
      "Hello,Jainil Here. \n"
     ]
    }
   ],
   "source": [
    "stri = 'Hello,Jainil Here. 1234567890'\n",
    "stri = re.sub(r'[0-9]','',stri)  #removes digits from string\n",
    "print(stri)  "
   ]
  },
  {
   "cell_type": "code",
   "execution_count": 22,
   "id": "8a9d99f2",
   "metadata": {},
   "outputs": [
    {
     "name": "stdout",
     "output_type": "stream",
     "text": [
      "Hello,Jainil Here. 1234567890\n"
     ]
    }
   ],
   "source": [
    "stri1 = 'Hello,Jainil Here. @1234567890'\n",
    "stri1 = re.sub(r'@','',stri1)\n",
    "print(stri1)"
   ]
  },
  {
   "cell_type": "code",
   "execution_count": 23,
   "id": "b0a0de58",
   "metadata": {},
   "outputs": [
    {
     "name": "stdout",
     "output_type": "stream",
     "text": [
      "['A', 'paragraph', 'is', 'a', 'series', 'of', 'related', 'sentences', 'developing', 'a', 'central', 'idea', ',', 'called', 'the', 'topic', '.']\n"
     ]
    }
   ],
   "source": [
    "#tokenizer\n",
    "para = 'A paragraph is a series of related sentences developing a central idea, called the topic. '\n",
    "tokenizer =  TweetTokenizer(preserve_case=True)\n",
    "tokens = tokenizer.tokenize(para)\n",
    "print(tokens)"
   ]
  },
  {
   "cell_type": "code",
   "execution_count": 24,
   "id": "bf18985a",
   "metadata": {},
   "outputs": [
    {
     "name": "stdout",
     "output_type": "stream",
     "text": [
      "['A', 'paragraph', 'series', 'related', 'sentences', 'developing', 'central', 'idea', 'called', 'topic']\n"
     ]
    }
   ],
   "source": [
    "#stemming\n",
    "stemmer = PorterStemmer()\n",
    "ans = []\n",
    "for word in tokens:\n",
    "    if(word not in stopwords.words('english') and word not in string.punctuation):\n",
    "        ans.append(word)\n",
    "print(ans)"
   ]
  }
 ],
 "metadata": {
  "kernelspec": {
   "display_name": "Python 3 (ipykernel)",
   "language": "python",
   "name": "python3"
  },
  "language_info": {
   "codemirror_mode": {
    "name": "ipython",
    "version": 3
   },
   "file_extension": ".py",
   "mimetype": "text/x-python",
   "name": "python",
   "nbconvert_exporter": "python",
   "pygments_lexer": "ipython3",
   "version": "3.10.1"
  }
 },
 "nbformat": 4,
 "nbformat_minor": 5
}
