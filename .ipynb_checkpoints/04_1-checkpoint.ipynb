{
 "cells": [
  {
   "cell_type": "code",
   "execution_count": 19,
   "id": "ddaaaa59",
   "metadata": {},
   "outputs": [],
   "source": [
    "import numpy as np\n",
    "import torch"
   ]
  },
  {
   "cell_type": "code",
   "execution_count": 20,
   "id": "ac132488",
   "metadata": {},
   "outputs": [],
   "source": [
    "inputs = np.array([[73, 67, 43],\n",
    "                   [91, 88, 64],\n",
    "                   [87, 134, 58],\n",
    "                   [102, 43, 37],\n",
    "                   [69, 96, 70]], dtype='float32')"
   ]
  },
  {
   "cell_type": "code",
   "execution_count": 21,
   "id": "2e2fc90f",
   "metadata": {},
   "outputs": [],
   "source": [
    "targets = np.array([[56],\n",
    "                   [81],\n",
    "                   [119],\n",
    "                   [22],\n",
    "                   [103]],dtype = \"float32\")\n",
    "# type(targets)"
   ]
  },
  {
   "cell_type": "code",
   "execution_count": 22,
   "id": "d3fdad6f",
   "metadata": {},
   "outputs": [
    {
     "data": {
      "text/plain": [
       "torch.Tensor"
      ]
     },
     "execution_count": 22,
     "metadata": {},
     "output_type": "execute_result"
    }
   ],
   "source": [
    "inputs = torch.from_numpy(inputs)\n",
    "type(inputs)\n",
    "targets = torch.from_numpy(targets)\n",
    "type(targets)"
   ]
  },
  {
   "cell_type": "markdown",
   "id": "b4e0dbef",
   "metadata": {},
   "source": [
    "# Linear Regression Implementation"
   ]
  },
  {
   "cell_type": "code",
   "execution_count": 23,
   "id": "d44841c6",
   "metadata": {},
   "outputs": [
    {
     "name": "stdout",
     "output_type": "stream",
     "text": [
      "tensor([[ 1.3446,  0.3333, -0.6225],\n",
      "        [-1.0983,  0.4529,  0.6495]], requires_grad=True)\n",
      "tensor([-1.8048, -0.7936], requires_grad=True)\n"
     ]
    }
   ],
   "source": [
    "weight = torch.randn(2, 3, requires_grad=True)\n",
    "bias = torch.randn(2, requires_grad=True)\n",
    "print(weight)\n",
    "print(bias)\n"
   ]
  },
  {
   "cell_type": "code",
   "execution_count": 24,
   "id": "0bfc8edf",
   "metadata": {},
   "outputs": [
    {
     "data": {
      "text/plain": [
       "tensor([[ 91.9186, -22.6982],\n",
       "        [110.0492, -19.3176],\n",
       "        [123.7397,   2.0112],\n",
       "        [126.6477, -69.3153],\n",
       "        [ 79.3990,  12.3652]], grad_fn=<AddBackward0>)"
      ]
     },
     "execution_count": 24,
     "metadata": {},
     "output_type": "execute_result"
    }
   ],
   "source": [
    "inputs@weight.t() + bias"
   ]
  },
  {
   "cell_type": "code",
   "execution_count": 27,
   "id": "1fca7122",
   "metadata": {},
   "outputs": [
    {
     "data": {
      "text/plain": [
       "tensor([[ 91.9186, -22.6982],\n",
       "        [110.0492, -19.3176],\n",
       "        [123.7397,   2.0112],\n",
       "        [126.6477, -69.3153],\n",
       "        [ 79.3990,  12.3652]], grad_fn=<AddBackward0>)"
      ]
     },
     "execution_count": 27,
     "metadata": {},
     "output_type": "execute_result"
    }
   ],
   "source": [
    "def model(inputs):\n",
    "    return inputs @ weight.t() + bias\n",
    "prediction = model(inputs)\n",
    "prediction\n"
   ]
  },
  {
   "cell_type": "markdown",
   "id": "5256db49",
   "metadata": {},
   "source": [
    "## Loss Finction"
   ]
  },
  {
   "cell_type": "code",
   "execution_count": 36,
   "id": "97421635",
   "metadata": {},
   "outputs": [
    {
     "name": "stdout",
     "output_type": "stream",
     "text": [
      "tensor(6016.1172, grad_fn=<DivBackward0>)\n"
     ]
    }
   ],
   "source": [
    "# print(prediction)\n",
    "# print(targets)\n",
    "dif = prediction - targets\n",
    "# print(dif)\n",
    "print(torch.sum(dif*dif) / dif.numel())"
   ]
  },
  {
   "cell_type": "code",
   "execution_count": 39,
   "id": "aa858e4e",
   "metadata": {},
   "outputs": [
    {
     "data": {
      "text/plain": [
       "tensor(6016.1172, grad_fn=<DivBackward0>)"
      ]
     },
     "execution_count": 39,
     "metadata": {},
     "output_type": "execute_result"
    }
   ],
   "source": [
    "def MSE(a,b):\n",
    "    diff = a-b\n",
    "    return torch.sum(diff*diff) / diff.numel()\n",
    "mse = MSE(prediction,targets)\n",
    "mse"
   ]
  },
  {
   "cell_type": "markdown",
   "id": "175cb10a",
   "metadata": {},
   "source": [
    "## Compute Gradients"
   ]
  },
  {
   "cell_type": "code",
   "execution_count": 47,
   "id": "8169df99",
   "metadata": {},
   "outputs": [
    {
     "name": "stdout",
     "output_type": "stream",
     "text": [
      "Weight grad:\n",
      " tensor([[ 2944.6982,  1566.4319,  1179.6901],\n",
      "        [-8123.9717, -8480.9453, -5262.5605]])\n",
      "Bias grad:\n",
      " tensor([ 30.1509, -95.5909])\n"
     ]
    }
   ],
   "source": [
    "# mse.backward()\n",
    "print(\"Weight grad:\\n\" , weight.grad)\n",
    "print(\"Bias grad:\\n\" , bias.grad)"
   ]
  },
  {
   "cell_type": "markdown",
   "id": "89691f00",
   "metadata": {},
   "source": [
    "## Trainning using gradient descent"
   ]
  },
  {
   "cell_type": "code",
   "execution_count": 56,
   "id": "c174d6dd",
   "metadata": {},
   "outputs": [],
   "source": [
    "with torch.no_grad():\n",
    "    weight -= weight.grad * 1e-5\n",
    "    bias -= bias.grad * 1e-5\n",
    "    weight.grad.zero_()\n",
    "    bias.grad.zero_()"
   ]
  },
  {
   "cell_type": "code",
   "execution_count": 57,
   "id": "e482fa73",
   "metadata": {},
   "outputs": [
    {
     "data": {
      "text/plain": [
       "tensor(4393.0850, grad_fn=<DivBackward0>)"
      ]
     },
     "execution_count": 57,
     "metadata": {},
     "output_type": "execute_result"
    }
   ],
   "source": [
    "prediction = model(inputs)\n",
    "mse = MSE(prediction, targets)\n",
    "mse"
   ]
  },
  {
   "cell_type": "code",
   "execution_count": 59,
   "id": "31f50eca",
   "metadata": {},
   "outputs": [],
   "source": [
    "for i in range(100):\n",
    "    prediction = model(inputs)\n",
    "    mse = MSE(prediction, targets)\n",
    "    mse.backward()\n",
    "    with torch.no_grad():\n",
    "        weight -= weight.grad * 1e-5\n",
    "        bias -= bias.grad * 1e-5\n",
    "        weight.grad.zero_()\n",
    "        bias.grad.zero_()"
   ]
  },
  {
   "cell_type": "code",
   "execution_count": 63,
   "id": "6d7c34f3",
   "metadata": {},
   "outputs": [
    {
     "name": "stdout",
     "output_type": "stream",
     "text": [
      "currr mse:\t tensor(350.9002, grad_fn=<DivBackward0>)\n",
      "tensor([[ 65.1130,  55.7295],\n",
      "        [ 79.3303,  83.0142],\n",
      "        [112.4523, 119.1624],\n",
      "        [ 68.2048,  13.6829],\n",
      "        [ 69.0597, 107.4870]], grad_fn=<AddBackward0>)\n",
      "tensor([[ 56.],\n",
      "        [ 81.],\n",
      "        [119.],\n",
      "        [ 22.],\n",
      "        [103.]])\n"
     ]
    }
   ],
   "source": [
    "prediction = model(inputs)\n",
    "mse = MSE(prediction, targets)\n",
    "print(\"currr mse:\\t\",mse)\n",
    "print(prediction)\n",
    "print(targets)"
   ]
  },
  {
   "cell_type": "code",
   "execution_count": null,
   "id": "594bdf31",
   "metadata": {},
   "outputs": [],
   "source": []
  }
 ],
 "metadata": {
  "kernelspec": {
   "display_name": "Python 3 (ipykernel)",
   "language": "python",
   "name": "python3"
  },
  "language_info": {
   "codemirror_mode": {
    "name": "ipython",
    "version": 3
   },
   "file_extension": ".py",
   "mimetype": "text/x-python",
   "name": "python",
   "nbconvert_exporter": "python",
   "pygments_lexer": "ipython3",
   "version": "3.8.0"
  }
 },
 "nbformat": 4,
 "nbformat_minor": 5
}
