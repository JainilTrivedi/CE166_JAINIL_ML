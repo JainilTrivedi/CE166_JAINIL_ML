{
 "cells": [
  {
   "cell_type": "code",
   "execution_count": 1,
   "id": "ddaaaa59",
   "metadata": {},
   "outputs": [],
   "source": [
    "import numpy as np\n",
    "import torch\n",
    "import tensorflow as tf"
   ]
  },
  {
   "cell_type": "code",
   "execution_count": 2,
   "id": "ac132488",
   "metadata": {},
   "outputs": [],
   "source": [
    "inputs = np.array([[73, 67, 43],\n",
    "                   [91, 88, 64],\n",
    "                   [87, 134, 58],\n",
    "                   [102, 43, 37],\n",
    "                   [69, 96, 70]], dtype='float32')"
   ]
  },
  {
   "cell_type": "code",
   "execution_count": 3,
   "id": "2e2fc90f",
   "metadata": {},
   "outputs": [
    {
     "data": {
      "text/plain": [
       "(5, 1)"
      ]
     },
     "execution_count": 3,
     "metadata": {},
     "output_type": "execute_result"
    }
   ],
   "source": [
    "targets = np.array([[56],\n",
    "                   [81],\n",
    "                   [119],\n",
    "                   [22],\n",
    "                   [103]],dtype = \"float32\")\n",
    "targets.shape"
   ]
  },
  {
   "cell_type": "code",
   "execution_count": 4,
   "id": "d3fdad6f",
   "metadata": {},
   "outputs": [
    {
     "data": {
      "text/plain": [
       "torch.Tensor"
      ]
     },
     "execution_count": 4,
     "metadata": {},
     "output_type": "execute_result"
    }
   ],
   "source": [
    "inputs = torch.from_numpy(inputs)\n",
    "type(inputs)\n",
    "targets = torch.from_numpy(targets)\n",
    "type(targets)"
   ]
  },
  {
   "cell_type": "markdown",
   "id": "b4e0dbef",
   "metadata": {},
   "source": [
    "# Linear Regression Implementation"
   ]
  },
  {
   "cell_type": "code",
   "execution_count": 5,
   "id": "d44841c6",
   "metadata": {},
   "outputs": [
    {
     "name": "stdout",
     "output_type": "stream",
     "text": [
      "tensor([[-0.8748, -0.0658,  0.6799],\n",
      "        [-0.2762,  0.2915, -0.2847]], requires_grad=True)\n",
      "tensor([-1.5535,  0.3641], requires_grad=True)\n"
     ]
    }
   ],
   "source": [
    "weight = torch.randn(2, 3, requires_grad=True)\n",
    "bias = torch.randn(2, requires_grad=True)\n",
    "print(weight)\n",
    "print(bias)\n"
   ]
  },
  {
   "cell_type": "code",
   "execution_count": 6,
   "id": "adb76a1d",
   "metadata": {},
   "outputs": [
    {
     "name": "stdout",
     "output_type": "stream",
     "text": [
      "<class 'torch.Tensor'>\n"
     ]
    },
    {
     "data": {
      "text/plain": [
       "torch.Tensor"
      ]
     },
     "execution_count": 6,
     "metadata": {},
     "output_type": "execute_result"
    }
   ],
   "source": [
    "print(type(inputs))\n",
    "type(weight.t())"
   ]
  },
  {
   "cell_type": "code",
   "execution_count": 7,
   "id": "0bfc8edf",
   "metadata": {},
   "outputs": [
    {
     "data": {
      "text/plain": [
       "tensor([[-40.5918, -12.5129],\n",
       "        [-43.4438, -17.3428],\n",
       "        [-47.0524,  -1.1208],\n",
       "        [-68.4605, -25.8106],\n",
       "        [-20.6454, -10.6426]], grad_fn=<AddBackward0>)"
      ]
     },
     "execution_count": 7,
     "metadata": {},
     "output_type": "execute_result"
    }
   ],
   "source": [
    "\n",
    "torch.matmul(inputs,weight.t()) + bias"
   ]
  },
  {
   "cell_type": "code",
   "execution_count": 8,
   "id": "6f1cce6f",
   "metadata": {},
   "outputs": [
    {
     "data": {
      "text/plain": [
       "tensor([[ 73.,  67.,  43.],\n",
       "        [ 91.,  88.,  64.],\n",
       "        [ 87., 134.,  58.],\n",
       "        [102.,  43.,  37.],\n",
       "        [ 69.,  96.,  70.]])"
      ]
     },
     "execution_count": 8,
     "metadata": {},
     "output_type": "execute_result"
    }
   ],
   "source": [
    "inputs"
   ]
  },
  {
   "cell_type": "code",
   "execution_count": 14,
   "id": "1fca7122",
   "metadata": {},
   "outputs": [
    {
     "name": "stdout",
     "output_type": "stream",
     "text": [
      "torch.Size([5, 2])\n",
      "<class 'torch.Tensor'>\n"
     ]
    },
    {
     "data": {
      "text/plain": [
       "tensor([[-40.5918, -12.5129],\n",
       "        [-43.4438, -17.3428],\n",
       "        [-47.0524,  -1.1208],\n",
       "        [-68.4605, -25.8106],\n",
       "        [-20.6454, -10.6426]], grad_fn=<AddBackward0>)"
      ]
     },
     "execution_count": 14,
     "metadata": {},
     "output_type": "execute_result"
    }
   ],
   "source": [
    "def model(inputs):\n",
    "    return torch.matmul(inputs,weight.t()) + bias\n",
    "prediction = model(inputs)\n",
    "print(prediction.shape)\n",
    "print(type(prediction))\n",
    "prediction\n"
   ]
  },
  {
   "cell_type": "markdown",
   "id": "5256db49",
   "metadata": {},
   "source": [
    "## Loss Finction"
   ]
  },
  {
   "cell_type": "code",
   "execution_count": 10,
   "id": "97421635",
   "metadata": {},
   "outputs": [
    {
     "name": "stdout",
     "output_type": "stream",
     "text": [
      "tensor([[ -96.5918,  -68.5129],\n",
      "        [-124.4438,  -98.3428],\n",
      "        [-166.0524, -120.1208],\n",
      "        [ -90.4605,  -47.8106],\n",
      "        [-123.6454, -113.6426]], grad_fn=<SubBackward0>)\n",
      "tensor(11985.5723, grad_fn=<DivBackward0>)\n"
     ]
    }
   ],
   "source": [
    "# print(prediction)\n",
    "# print(targets)\n",
    "dif = prediction - targets\n",
    "print(dif)\n",
    "print(torch.sum(dif*dif) / dif.numel())"
   ]
  },
  {
   "cell_type": "code",
   "execution_count": 11,
   "id": "aa858e4e",
   "metadata": {},
   "outputs": [
    {
     "data": {
      "text/plain": [
       "tensor(11985.5723, grad_fn=<DivBackward0>)"
      ]
     },
     "execution_count": 11,
     "metadata": {},
     "output_type": "execute_result"
    }
   ],
   "source": [
    "def MSE(a,b):\n",
    "    diff = a-b\n",
    "    return torch.sum(diff*diff) / diff.numel()\n",
    "mse = MSE(prediction,targets)\n",
    "mse"
   ]
  },
  {
   "cell_type": "markdown",
   "id": "175cb10a",
   "metadata": {},
   "source": [
    "## Compute Gradients"
   ]
  },
  {
   "cell_type": "code",
   "execution_count": 17,
   "id": "8169df99",
   "metadata": {},
   "outputs": [
    {
     "name": "stdout",
     "output_type": "stream",
     "text": [
      "Weight grad:\n",
      " None\n",
      "Bias grad:\n",
      " None\n"
     ]
    }
   ],
   "source": [
    "# mse.backward()\n",
    "print(\"Weight grad:\\n\" , weight.grad)\n",
    "print(\"Bias grad:\\n\" , bias.grad)"
   ]
  },
  {
   "cell_type": "markdown",
   "id": "89691f00",
   "metadata": {},
   "source": [
    "## Trainning using gradient descent"
   ]
  },
  {
   "cell_type": "code",
   "execution_count": 18,
   "id": "c174d6dd",
   "metadata": {},
   "outputs": [
    {
     "ename": "TypeError",
     "evalue": "unsupported operand type(s) for *: 'NoneType' and 'float'",
     "output_type": "error",
     "traceback": [
      "\u001b[1;31m---------------------------------------------------------------------------\u001b[0m",
      "\u001b[1;31mTypeError\u001b[0m                                 Traceback (most recent call last)",
      "\u001b[1;32m~\\AppData\\Local\\Temp/ipykernel_24356/3420961209.py\u001b[0m in \u001b[0;36m<module>\u001b[1;34m\u001b[0m\n\u001b[0;32m      1\u001b[0m \u001b[1;32mwith\u001b[0m \u001b[0mtorch\u001b[0m\u001b[1;33m.\u001b[0m\u001b[0mno_grad\u001b[0m\u001b[1;33m(\u001b[0m\u001b[1;33m)\u001b[0m\u001b[1;33m:\u001b[0m\u001b[1;33m\u001b[0m\u001b[1;33m\u001b[0m\u001b[0m\n\u001b[1;32m----> 2\u001b[1;33m     \u001b[0mweight\u001b[0m \u001b[1;33m-=\u001b[0m \u001b[0mweight\u001b[0m\u001b[1;33m.\u001b[0m\u001b[0mgrad\u001b[0m \u001b[1;33m*\u001b[0m \u001b[1;36m1e-5\u001b[0m\u001b[1;33m\u001b[0m\u001b[1;33m\u001b[0m\u001b[0m\n\u001b[0m\u001b[0;32m      3\u001b[0m     \u001b[0mbias\u001b[0m \u001b[1;33m-=\u001b[0m \u001b[0mbias\u001b[0m\u001b[1;33m.\u001b[0m\u001b[0mgrad\u001b[0m \u001b[1;33m*\u001b[0m \u001b[1;36m1e-5\u001b[0m\u001b[1;33m\u001b[0m\u001b[1;33m\u001b[0m\u001b[0m\n\u001b[0;32m      4\u001b[0m     \u001b[0mweight\u001b[0m\u001b[1;33m.\u001b[0m\u001b[0mgrad\u001b[0m\u001b[1;33m.\u001b[0m\u001b[0mzero_\u001b[0m\u001b[1;33m(\u001b[0m\u001b[1;33m)\u001b[0m\u001b[1;33m\u001b[0m\u001b[1;33m\u001b[0m\u001b[0m\n\u001b[0;32m      5\u001b[0m     \u001b[0mbias\u001b[0m\u001b[1;33m.\u001b[0m\u001b[0mgrad\u001b[0m\u001b[1;33m.\u001b[0m\u001b[0mzero_\u001b[0m\u001b[1;33m(\u001b[0m\u001b[1;33m)\u001b[0m\u001b[1;33m\u001b[0m\u001b[1;33m\u001b[0m\u001b[0m\n",
      "\u001b[1;31mTypeError\u001b[0m: unsupported operand type(s) for *: 'NoneType' and 'float'"
     ]
    }
   ],
   "source": [
    "with torch.no_grad():\n",
    "    weight -= weight.grad * 1e-5\n",
    "    bias -= bias.grad * 1e-5\n",
    "    weight.grad.zero_()\n",
    "    bias.grad.zero_()"
   ]
  },
  {
   "cell_type": "code",
   "execution_count": null,
   "id": "e482fa73",
   "metadata": {},
   "outputs": [],
   "source": [
    "prediction = model(inputs)\n",
    "mse = MSE(prediction, targets)\n",
    "mse"
   ]
  },
  {
   "cell_type": "code",
   "execution_count": null,
   "id": "31f50eca",
   "metadata": {},
   "outputs": [],
   "source": [
    "for i in range(100):\n",
    "    prediction = model(inputs)\n",
    "    mse = MSE(prediction, targets)\n",
    "    mse.backward()\n",
    "    with torch.no_grad():\n",
    "        weight -= weight.grad * 1e-5\n",
    "        bias -= bias.grad * 1e-5\n",
    "        weight.grad.zero_()\n",
    "        bias.grad.zero_()"
   ]
  },
  {
   "cell_type": "code",
   "execution_count": null,
   "id": "6d7c34f3",
   "metadata": {},
   "outputs": [],
   "source": [
    "prediction = model(inputs)\n",
    "mse = MSE(prediction, targets)\n",
    "print(\"currr mse:\\t\",mse)\n",
    "print(prediction)\n",
    "print(targets)"
   ]
  },
  {
   "cell_type": "code",
   "execution_count": null,
   "id": "594bdf31",
   "metadata": {},
   "outputs": [],
   "source": []
  }
 ],
 "metadata": {
  "kernelspec": {
   "display_name": "Python 3 (ipykernel)",
   "language": "python",
   "name": "python3"
  },
  "language_info": {
   "codemirror_mode": {
    "name": "ipython",
    "version": 3
   },
   "file_extension": ".py",
   "mimetype": "text/x-python",
   "name": "python",
   "nbconvert_exporter": "python",
   "pygments_lexer": "ipython3",
   "version": "3.8.0"
  }
 },
 "nbformat": 4,
 "nbformat_minor": 5
}
