{
 "cells": [
  {
   "cell_type": "code",
   "execution_count": 1,
   "id": "0fb4e795",
   "metadata": {},
   "outputs": [],
   "source": [
    "import matplotlib.pyplot as plt\n",
    "import numpy as np\n",
    "import pandas as pd\n",
    "\n",
    "import torch\n",
    "import torch.nn as nn\n",
    "from torch.autograd import Variable\n",
    "from torch.utils.data import DataLoader\n",
    "import tensorflow\n",
    "\n",
    "from sklearn.model_selection import train_test_split"
   ]
  },
  {
   "cell_type": "code",
   "execution_count": 2,
   "id": "cfb5bd08",
   "metadata": {},
   "outputs": [
    {
     "name": "stdout",
     "output_type": "stream",
     "text": [
      "[[0. 0. 0. ... 0. 0. 0.]\n",
      " [0. 0. 0. ... 0. 0. 0.]\n",
      " [0. 0. 0. ... 0. 0. 0.]\n",
      " ...\n",
      " [0. 0. 0. ... 0. 0. 0.]\n",
      " [0. 0. 0. ... 0. 0. 0.]\n",
      " [0. 0. 0. ... 0. 0. 0.]]\n",
      "[5 0 4 ... 5 6 8]\n"
     ]
    }
   ],
   "source": [
    "from tensorflow.keras.datasets import mnist\n",
    "(features_train, targets_train), (features_test, targets_test) = mnist.load_data()\n",
    "\n",
    "# Convert to float32.\n",
    "features_train = np.array(features_train, np.float32)\n",
    "features_test = np.array(features_test, np.float32)\n",
    "\n",
    "# Flatten images to 1-D vector of 784 features (28*28).\n",
    "features_train  = features_train.reshape([-1, 784]) \n",
    "features_test = features_test.reshape([-1, 784])\n",
    "\n",
    "# Normalize images value from [0, 255] to [0, 1]\n",
    "features_train = features_train / 255.\n",
    "features_test =  features_test / 255.\n",
    "print(features_train)\n",
    "print(targets_train)\n"
   ]
  },
  {
   "cell_type": "code",
   "execution_count": 4,
   "id": "381fa979",
   "metadata": {},
   "outputs": [
    {
     "data": {
      "text/plain": [
       "torch.Tensor"
      ]
     },
     "execution_count": 4,
     "metadata": {},
     "output_type": "execute_result"
    }
   ],
   "source": [
    "#  create feature and targets tensor for train set\n",
    "torch_x_train = torch.from_numpy(features_train)\n",
    "torch_y_train = torch.from_numpy(targets_train)\n",
    "\n",
    "# create feature and targets tensor for test set.\n",
    "torch_x_test = torch.from_numpy(features_test)\n",
    "torch_y_test = torch.from_numpy(targets_test)\n",
    "type(torch_x_test)"
   ]
  },
  {
   "cell_type": "code",
   "execution_count": 5,
   "id": "cc7e3f39",
   "metadata": {},
   "outputs": [],
   "source": [
    "# batch_size, epoch and iteration\n",
    "from  torch.utils.data import TensorDataset\n",
    "batch_size = 100\n",
    "n_iters = 5000\n",
    "num_epochs = n_iters / (len(features_train) / batch_size)\n",
    "num_epochs = int(num_epochs)\n",
    "\n",
    "# Pytorch train and test sets - Tensordataset\n",
    "train_data=TensorDataset(torch_x_train,torch_y_train)\n",
    "test_data=TensorDataset(torch_x_test,torch_y_test)"
   ]
  },
  {
   "cell_type": "code",
   "execution_count": 8,
   "id": "ca3a7917",
   "metadata": {},
   "outputs": [
    {
     "data": {
      "image/png": "[encoded data removed]",
      "text/plain": [
       "<Figure size 432x288 with 1 Axes>"
      ]
     },
     "metadata": {
      "needs_background": "light"
     },
     "output_type": "display_data"
    }
   ],
   "source": [
    "# data loader\n",
    "train_loader = torch.utils.data.DataLoader(dataset=train_data, batch_size=batch_size, shuffle=False)\n",
    "test_loader = torch.utils.data.DataLoader(dataset=test_data, batch_size=batch_size,shuffle=False)\n",
    "\n",
    "#  visualize one of the images in data set\n",
    "plt.imshow(features_train[166].reshape(28,28))\n",
    "plt.axis('off')\n",
    "plt.title(str(targets_train[166]))\n",
    "plt.savefig('graph.png')\n",
    "plt.show()"
   ]
  },
  {
   "cell_type": "code",
   "execution_count": 10,
   "id": "9c9c40d8",
   "metadata": {},
   "outputs": [
    {
     "name": "stdout",
     "output_type": "stream",
     "text": [
      "ANNModel(\n",
      "  (layer1): Linear(in_features=784, out_features=166, bias=True)\n",
      "  (layer2): Linear(in_features=166, out_features=166, bias=True)\n",
      "  (layer3): Linear(in_features=166, out_features=10, bias=True)\n",
      "  (relu): ReLU()\n",
      ")\n",
      "CrossEntropyLoss()\n"
     ]
    }
   ],
   "source": [
    "# Create ANN Model\n",
    "class ANNModel(nn.Module):\n",
    "    def __init__(self, input_dim, hidden_dim, output_dim):\n",
    "        super(ANNModel, self).__init__()\n",
    "        self.layer1 = nn.Linear(input_dim, hidden_dim)\n",
    "        self.layer2 = nn.Linear(hidden_dim, hidden_dim)\n",
    "        self.layer3 = nn.Linear(hidden_dim, output_dim)\n",
    "        self.relu = nn.ReLU()\n",
    "    def forward(self, x):\n",
    "        # HL1 with relu activation\n",
    "        out = self.relu(self.layer1(x))\n",
    "        \n",
    "        # HL2 with relu activation\n",
    "        out = self.relu(self.layer2(out))\n",
    "        \n",
    "        # Output layer with LogSoftmax activation\n",
    "        out = self.layer3(out)\n",
    "        return out\n",
    "\n",
    "# instantiate ANN\n",
    "input_dim = 28*28\n",
    "hidden_dim = 166 \n",
    "output_dim = 10\n",
    "# Create ANN\n",
    "model = ANNModel(input_dim, hidden_dim, output_dim)\n",
    "print(model)\n",
    "\n",
    "# Cross Entropy Loss\n",
    "loss = nn.CrossEntropyLoss()\n",
    "\n",
    "# SGD Optimizer\n",
    "learning_rate = 0.02\n",
    "optimizer = torch.optim.SGD(model.parameters(), lr=learning_rate)\n"
   ]
  },
  {
   "cell_type": "code",
   "execution_count": 11,
   "id": "a8904c9c",
   "metadata": {},
   "outputs": [
    {
     "name": "stdout",
     "output_type": "stream",
     "text": [
      "Iteration: 500 Loss: 0.7699797749519348 Accuracy: 80.0 %\n",
      "Iteration: 1000 Loss: 0.49407246708869934 Accuracy: 87.0 %\n",
      "Iteration: 1500 Loss: 0.5668748021125793 Accuracy: 90.0 %\n",
      "Iteration: 2000 Loss: 0.3104695975780487 Accuracy: 88.0 %\n",
      "Iteration: 2500 Loss: 0.20094123482704163 Accuracy: 90.0 %\n",
      "Iteration: 3000 Loss: 0.32210731506347656 Accuracy: 92.0 %\n",
      "Iteration: 3500 Loss: 0.2554474174976349 Accuracy: 92.0 %\n",
      "Iteration: 4000 Loss: 0.2910732328891754 Accuracy: 91.0 %\n",
      "Iteration: 4500 Loss: 0.4211401045322418 Accuracy: 90.0 %\n"
     ]
    }
   ],
   "source": [
    "# ANN model training\n",
    "count = 0\n",
    "loss_list = []\n",
    "iteration_list = []\n",
    "accuracy_list = []\n",
    "for epoch in range(num_epochs):\n",
    "    for i, (images, labels) in enumerate(train_loader):\n",
    "        train = Variable(images.view(-1, 28*28))\n",
    "        labels = Variable(labels)\n",
    "        # Clear gradients\n",
    "        optimizer.zero_grad()\n",
    "        \n",
    "        # Forward propagation\n",
    "        output=model(train)\n",
    "        \n",
    "        # Calculate softmax and cross entropy loss\n",
    "        error = loss(output, labels)\n",
    "        \n",
    "        # Calculating gradients\n",
    "        error.backward()\n",
    "        \n",
    "        # Update parameters\n",
    "        optimizer.step()\n",
    "        count += 1\n",
    "        if count % 50 == 0:\n",
    "            # Calculate Accuracy\n",
    "            correct = 0\n",
    "            total = 0\n",
    "            predicted=[]\n",
    "            # Predict test dataset\n",
    "            \n",
    "            for images, labels in test_loader:\n",
    "                test = Variable(images.view(-1, 28*28))\n",
    "                \n",
    "                # Forward propagation\n",
    "                output=model(test)\n",
    "                total=len(labels)\n",
    "                \n",
    "                # Total correct predictions\n",
    "                prediction= torch.max(output.data, 1)[1]\n",
    "                correct=(prediction==labels).sum()\n",
    "            accuracy = 100 * correct / float(total)\n",
    "            # store loss and iteration\n",
    "            loss_list.append(error.data)\n",
    "            iteration_list.append(count)\n",
    "            accuracy_list.append(accuracy)\n",
    "        if count % 500 == 0:\n",
    "            print('Iteration: {} Loss: {} Accuracy: {} %'.format(count, error.data, accuracy))\n"
   ]
  },
  {
   "cell_type": "code",
   "execution_count": 12,
   "id": "428a8e91",
   "metadata": {},
   "outputs": [
    {
     "data": {
      "image/png": "[encoded data removed]",
      "text/plain": [
       "<Figure size 432x288 with 1 Axes>"
      ]
     },
     "metadata": {
      "needs_background": "light"
     },
     "output_type": "display_data"
    },
    {
     "data": {
      "image/png": "[encoded data removed]",
      "text/plain": [
       "<Figure size 432x288 with 1 Axes>"
      ]
     },
     "metadata": {
      "needs_background": "light"
     },
     "output_type": "display_data"
    }
   ],
   "source": [
    "# visualization loss\n",
    "plt.plot(iteration_list,loss_list)\n",
    "plt.xlabel(\"Number of iteration\")\n",
    "plt.ylabel(\"Loss\")\n",
    "plt.title(\"ANN: Loss vs Number of iteration\")\n",
    "plt.show()\n",
    "\n",
    "# visualization accuracy\n",
    "plt.plot(iteration_list,accuracy_list,color = \"red\")\n",
    "plt.xlabel(\"Number of iteration\")\n",
    "plt.ylabel(\"Accuracy\")\n",
    "plt.title(\"ANN: Accuracy vs Number of iteration\")\n",
    "plt.show()\n"
   ]
  },
  {
   "cell_type": "code",
   "execution_count": null,
   "id": "bffef355",
   "metadata": {},
   "outputs": [],
   "source": []
  }
 ],
 "metadata": {
  "kernelspec": {
   "display_name": "Python 3 (ipykernel)",
   "language": "python",
   "name": "python3"
  },
  "language_info": {
   "codemirror_mode": {
    "name": "ipython",
    "version": 3
   },
   "file_extension": ".py",
   "mimetype": "text/x-python",
   "name": "python",
   "nbconvert_exporter": "python",
   "pygments_lexer": "ipython3",
   "version": "3.8.0"
  }
 },
 "nbformat": 4,
 "nbformat_minor": 5
}
