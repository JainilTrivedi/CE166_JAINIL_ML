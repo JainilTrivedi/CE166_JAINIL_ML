{
 "cells": [
  {
   "cell_type": "markdown",
   "id": "6d6cedd4",
   "metadata": {},
   "source": [
    "# Try SVM classifier on MNIST dataset, compare the performance of linear, polynomial and RBF kernels."
   ]
  },
  {
   "cell_type": "code",
   "execution_count": 2,
   "id": "d37ce306",
   "metadata": {},
   "outputs": [],
   "source": [
    "import matplotlib.pyplot as plt\n",
    "from sklearn import svm\n",
    "from sklearn.model_selection import train_test_split\n",
    "import numpy as np"
   ]
  },
  {
   "cell_type": "code",
   "execution_count": 4,
   "id": "ec4318bc",
   "metadata": {},
   "outputs": [],
   "source": [
    "from sklearn.datasets import load_digits\n",
    "digits = load_digits()\n",
    "X_train, X_test, y_train, y_test = train_test_split(digits.data, digits.target, test_size = 0.3, train_size = 0.2 ,random_state = 166)"
   ]
  },
  {
   "cell_type": "code",
   "execution_count": 7,
   "id": "2f2f0d86",
   "metadata": {},
   "outputs": [
    {
     "name": "stdout",
     "output_type": "stream",
     "text": [
      "accuracy: 0.9481481481481482\n"
     ]
    }
   ],
   "source": [
    "#LINEAR MODEL\n",
    "linear_clf = svm.SVC(kernel='linear')\n",
    "linear_clf.fit(X_train, y_train)\n",
    "y_pred = linear_clf.predict(X_test)\n",
    "\n",
    "from sklearn import metrics\n",
    "print(\"accuracy:\", metrics.accuracy_score(y_true=y_test, y_pred=y_pred))"
   ]
  },
  {
   "cell_type": "code",
   "execution_count": 8,
   "id": "80e02a0d",
   "metadata": {},
   "outputs": [
    {
     "name": "stdout",
     "output_type": "stream",
     "text": [
      "accuracy: 0.9611111111111111\n"
     ]
    }
   ],
   "source": [
    "#POLYNOMIAL MODEL\n",
    "poly_clf = svm.SVC(kernel='poly')\n",
    "poly_clf.fit(X_train, y_train)\n",
    "y_pred = poly_clf.predict(X_test)\n",
    "from sklearn import metrics\n",
    "print(\"accuracy:\", metrics.accuracy_score(y_true=y_test, y_pred=y_pred))"
   ]
  },
  {
   "cell_type": "code",
   "execution_count": 10,
   "id": "761f5125",
   "metadata": {},
   "outputs": [
    {
     "name": "stdout",
     "output_type": "stream",
     "text": [
      "accuracy: 0.9648148148148148\n"
     ]
    }
   ],
   "source": [
    "#RBF MODEL\n",
    "rbf_clf = svm.SVC(kernel='rbf')\n",
    "rbf_clf.fit(X_train, y_train)\n",
    "y_pred = rbf_clf.predict(X_test)\n",
    "print(\"accuracy:\", metrics.accuracy_score(y_true=y_test, y_pred=y_pred))"
   ]
  },
  {
   "cell_type": "code",
   "execution_count": null,
   "id": "fed99897",
   "metadata": {},
   "outputs": [],
   "source": []
  }
 ],
 "metadata": {
  "kernelspec": {
   "display_name": "Python 3 (ipykernel)",
   "language": "python",
   "name": "python3"
  },
  "language_info": {
   "codemirror_mode": {
    "name": "ipython",
    "version": 3
   },
   "file_extension": ".py",
   "mimetype": "text/x-python",
   "name": "python",
   "nbconvert_exporter": "python",
   "pygments_lexer": "ipython3",
   "version": "3.8.0"
  }
 },
 "nbformat": 4,
 "nbformat_minor": 5
}
