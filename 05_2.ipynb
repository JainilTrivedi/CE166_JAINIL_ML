{
 "cells": [
  {
   "cell_type": "markdown",
   "id": "52c36ed3",
   "metadata": {},
   "source": [
    "## Task 1: Try the algo on Same Weather dataset LabelEncoding of features:and Train test Division 95%-5%"
   ]
  },
  {
   "cell_type": "code",
   "execution_count": 1,
   "id": "af2101e1",
   "metadata": {},
   "outputs": [],
   "source": [
    "from sklearn import preprocessing\n",
    "from sklearn.tree import DecisionTreeClassifier"
   ]
  },
  {
   "cell_type": "code",
   "execution_count": 2,
   "id": "5fe43b62",
   "metadata": {},
   "outputs": [],
   "source": [
    "Outlook = ['Rainy', 'Rainy', 'Overcast', 'Sunny', 'Sunny', 'Sunny',\n",
    "'Overcast',\n",
    "'Rainy', 'Rainy', 'Sunny', 'Rainy','Overcast', 'Overcast',\n",
    "'Sunny']\n",
    "Temperature = ['Hot', 'Hot', 'Hot', 'Mild', 'Cool', 'Cool', 'Cool',\n",
    "'Mild', 'Cool', 'Mild', 'Mild', 'Mild', 'Hot', 'Mild']\n",
    "Humidity = ['High', 'High', 'High', 'High', 'Normal', 'Normal', 'Normal',\n",
    "'High', 'Normal', 'Normal', 'Normal', 'High', 'Normal'\n",
    ",'High']\n",
    "Wind = ['False', 'True', 'False', 'False', 'False', 'True', 'True',\n",
    "'False', 'False', 'False', 'True', 'True', 'False', 'True']\n",
    "#Class Label:\n",
    "Play = ['No', 'No', 'Yes', 'Yes', 'Yes', 'No', 'Yes', 'No',\n",
    "'Yes', 'Yes', 'Yes', 'Yes', 'Yes', 'No']"
   ]
  },
  {
   "cell_type": "code",
   "execution_count": 4,
   "id": "45ec48eb",
   "metadata": {},
   "outputs": [
    {
     "name": "stdout",
     "output_type": "stream",
     "text": [
      "Outllok : {'Overcast': 0, 'Rainy': 1, 'Sunny': 2}\n",
      "Temperature : {'Cool': 0, 'Hot': 1, 'Mild': 2}\n",
      "Humidity: {'High': 0, 'Normal': 1}\n",
      "Wind : {'False': 0, 'True': 1}\n",
      "Play : {'No': 0, 'Yes': 1}\n",
      "\n",
      "\n",
      "Weather: [1 1 0 2 2 2 0 1 1 2 1 0 0 2]\n",
      "Temerature: [1 1 1 2 0 0 0 2 0 2 2 2 1 2]\n",
      "Humidity: [0 0 0 0 1 1 1 0 1 1 1 0 1 0]\n",
      "Wind: [0 1 0 0 0 1 1 0 0 0 1 1 0 1]\n",
      "Play: [0 0 1 1 1 0 1 0 1 1 1 1 1 0]\n"
     ]
    }
   ],
   "source": [
    "le = preprocessing.LabelEncoder()\n",
    "Outlook_encoded = le.fit_transform(Outlook)\n",
    "Outlook_name_mapping = dict(zip(le.classes_, le.transform(le.classes_)))\n",
    "print(\"Outllok :\",Outlook_name_mapping)\n",
    "Temperature_encoded = le.fit_transform(Temperature)\n",
    "Temperature_name_mapping = dict(zip(le.classes_, le.transform(le.classes_)))\n",
    "print(\"Temperature :\",Temperature_name_mapping)\n",
    "Humidity_encoded = le.fit_transform(Humidity)\n",
    "Humidity_name_mapping = dict(zip(le.classes_, le.transform(le.classes_)))\n",
    "print(\"Humidity:\",Humidity_name_mapping)\n",
    "Wind_encoded = le.fit_transform(Wind)\n",
    "Wind_name_mapping = dict(zip(le.classes_, le.transform(le.classes_)))\n",
    "print(\"Wind :\",Wind_name_mapping)\n",
    "Play_encoded = le.fit_transform(Play)\n",
    "Play_name_mapping = dict(zip(le.classes_, le.transform(le.classes_)))\n",
    "print(\"Play :\",Play_name_mapping)\n",
    "print(\"\\n\")\n",
    "print(\"Weather:\" ,Outlook_encoded)\n",
    "print(\"Temerature:\" ,Temperature_encoded)\n",
    "print(\"Humidity:\" ,Humidity_encoded)\n",
    "print(\"Wind:\" ,Wind_encoded)\n",
    "print(\"Play:\" ,Play_encoded)"
   ]
  },
  {
   "cell_type": "code",
   "execution_count": 6,
   "id": "9872ecea",
   "metadata": {},
   "outputs": [
    {
     "name": "stdout",
     "output_type": "stream",
     "text": [
      "Features: [(1, 1, 0, 0), (1, 1, 0, 1), (0, 1, 0, 0), (2, 2, 0, 0), (2, 0, 1, 0), (2, 0, 1, 1), (0, 0, 1, 1), (1, 2, 0, 0), (1, 0, 1, 0), (2, 2, 1, 0), (1, 2, 1, 1), (0, 2, 0, 1), (0, 1, 1, 0), (2, 2, 0, 1)]\n"
     ]
    }
   ],
   "source": [
    "features=list(zip(Outlook_encoded,Temperature_encoded,Humidity_encoded,Wind_encoded))\n",
    "print(\"Features:\",features)"
   ]
  },
  {
   "cell_type": "code",
   "execution_count": 8,
   "id": "f2bad72f",
   "metadata": {},
   "outputs": [
    {
     "name": "stdout",
     "output_type": "stream",
     "text": [
      "[1]\n"
     ]
    }
   ],
   "source": [
    "from sklearn.model_selection import train_test_split\n",
    "X_train, X_test, y_train, y_test = train_test_split(features,Play_encoded , test_size=0.05, random_state=175)\n",
    "clf = DecisionTreeClassifier(criterion = \"entropy\", random_state = 175, max_leaf_nodes=175)\n",
    "\n",
    "clf = clf.fit(X_train,y_train)\n",
    "\n",
    "y_pred = clf.predict(X_test)\n",
    "print(y_pred)"
   ]
  },
  {
   "cell_type": "code",
   "execution_count": 10,
   "id": "1ae889a5",
   "metadata": {},
   "outputs": [
    {
     "name": "stdout",
     "output_type": "stream",
     "text": [
      "Accuracy: 1.0\n",
      "precision: 1.0\n",
      "recall:  1.0\n"
     ]
    }
   ],
   "source": [
    "from sklearn.metrics import precision_score\n",
    "from sklearn.metrics import recall_score\n",
    "from sklearn import metrics\n",
    "print(\"Accuracy:\",metrics.accuracy_score(y_test, y_pred))\n",
    "precision = precision_score(y_test, y_pred)\n",
    "recall = recall_score(y_test, y_pred)\n",
    "print('precision:',precision)\n",
    "print('recall: ',recall)"
   ]
  },
  {
   "cell_type": "markdown",
   "id": "6a3f0db6",
   "metadata": {},
   "source": [
    "## 1) What will be the value of Play, if Outlook is ’Rainy’, Temperature is ’Mild’, Humidity =’Normal’, and Wind = ’False’?                                                                                        2) What will be the value of Play, if Outlook is ’Sunny’, Temeprature is ’Cool’, Humidity =’High’, and Wind = ’True’?"
   ]
  },
  {
   "cell_type": "code",
   "execution_count": 12,
   "id": "9c5f123f",
   "metadata": {},
   "outputs": [
    {
     "name": "stdout",
     "output_type": "stream",
     "text": [
      "[1]\n",
      "[0]\n"
     ]
    }
   ],
   "source": [
    "#1\n",
    "pred1 = clf.predict([(1,2,1,0)])\n",
    "print(pred1)\n",
    "#2\n",
    "pred2 = clf.predict([(2,0,0,1)])\n",
    "print(pred2)"
   ]
  },
  {
   "cell_type": "markdown",
   "id": "465b8deb",
   "metadata": {},
   "source": [
    "## Task 2: Apply algorithm on wine dataset - LabelEncoding of features: and Train test Division 66%-34%"
   ]
  },
  {
   "cell_type": "code",
   "execution_count": 14,
   "id": "b8dcf235",
   "metadata": {},
   "outputs": [
    {
     "name": "stdout",
     "output_type": "stream",
     "text": [
      "Features: ['alcohol', 'malic_acid', 'ash', 'alcalinity_of_ash', 'magnesium', 'total_phenols', 'flavanoids', 'nonflavanoid_phenols', 'proanthocyanins', 'color_intensity', 'hue', 'od280/od315_of_diluted_wines', 'proline']\n",
      "Labels: ['class_0' 'class_1' 'class_2']\n"
     ]
    }
   ],
   "source": [
    "from sklearn.datasets import load_wine\n",
    "from sklearn.tree import DecisionTreeClassifier\n",
    "wine_data = load_wine()\n",
    "print(\"Features:\",wine_data.feature_names)\n",
    "\n",
    "# print the label type of iris(class_0, class_1, class_2)\n",
    "print(\"Labels:\",wine_data.target_names)"
   ]
  },
  {
   "cell_type": "code",
   "execution_count": 15,
   "id": "6f9cbf72",
   "metadata": {},
   "outputs": [],
   "source": [
    "from sklearn.model_selection import train_test_split\n",
    "# 66-43\n",
    "X_train, X_test, y_train, y_test = train_test_split(wine_data.data,wine_data.target , test_size=0.34, random_state=175)"
   ]
  },
  {
   "cell_type": "code",
   "execution_count": 16,
   "id": "1e7065c2",
   "metadata": {},
   "outputs": [
    {
     "name": "stdout",
     "output_type": "stream",
     "text": [
      "[2 1 1 1 0 0 0 0 0 2 0 0 2 0 0 0 0 1 2 2 1 1 0 1 0 2 0 1 0 2 0 0 2 2 1 0 0\n",
      " 1 1 0 1 1 2 0 2 1 2 1 0 1 2 1 2 2 0 1 0 1 0 1 0]\n"
     ]
    }
   ],
   "source": [
    "clf = DecisionTreeClassifier(criterion = \"entropy\", random_state = 175, max_leaf_nodes=175)\n",
    "\n",
    "# Train Decision Tree Classifer\n",
    "clf = clf.fit(X_train,y_train)\n",
    "\n",
    "#Predict the response for test dataset\n",
    "y_pred = clf.predict(X_test)\n",
    "print(y_pred)"
   ]
  },
  {
   "cell_type": "code",
   "execution_count": 17,
   "id": "a9fa06dd",
   "metadata": {},
   "outputs": [
    {
     "name": "stdout",
     "output_type": "stream",
     "text": [
      "Accuracy: 0.9016393442622951\n",
      "precision: [0.92307692 0.9        0.86666667]\n",
      "recall: [1.         0.85714286 0.8125    ]\n"
     ]
    }
   ],
   "source": [
    "from sklearn.metrics import precision_score\n",
    "from sklearn.metrics import recall_score\n",
    "from sklearn import metrics\n",
    "print(\"Accuracy:\",metrics.accuracy_score(y_test, y_pred))\n",
    "precision = precision_score(y_test, y_pred,average=None)\n",
    "recall = recall_score(y_test, y_pred,average=None)\n",
    "print('precision: {}'.format(precision))\n",
    "print('recall: {}'.format(recall))"
   ]
  },
  {
   "cell_type": "code",
   "execution_count": null,
   "id": "617342c5",
   "metadata": {},
   "outputs": [],
   "source": []
  }
 ],
 "metadata": {
  "kernelspec": {
   "display_name": "Python 3 (ipykernel)",
   "language": "python",
   "name": "python3"
  },
  "language_info": {
   "codemirror_mode": {
    "name": "ipython",
    "version": 3
   },
   "file_extension": ".py",
   "mimetype": "text/x-python",
   "name": "python",
   "nbconvert_exporter": "python",
   "pygments_lexer": "ipython3",
   "version": "3.8.0"
  }
 },
 "nbformat": 4,
 "nbformat_minor": 5
}
