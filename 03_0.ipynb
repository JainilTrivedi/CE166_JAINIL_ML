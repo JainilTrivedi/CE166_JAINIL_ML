{
 "cells": [
  {
   "cell_type": "markdown",
   "id": "d39cfe06",
   "metadata": {},
   "source": [
    "# Exercise: Manually calculate output for the following cases and compare it ith system’s output.                                                                                                                  (1) Will you play if the temperature is ‘Hot’ and weather is ‘overcast’?                    (2) Will you play if the temperature is ‘Mild’ and weather is ‘Sunny’?"
   ]
  },
  {
   "cell_type": "code",
   "execution_count": 2,
   "id": "8cc48857",
   "metadata": {},
   "outputs": [],
   "source": [
    "from sklearn import preprocessing\n",
    "from sklearn.naive_bayes import GaussianNB,MultinomialNB"
   ]
  },
  {
   "cell_type": "code",
   "execution_count": 3,
   "id": "df610bb4",
   "metadata": {},
   "outputs": [],
   "source": [
    "weather = [\n",
    "    'Sunny', 'Sunny', 'Overcast', 'Rainy', 'Rainy','Rainy', 'Overcast',\n",
    "    'Sunny', 'Sunny', 'Rainy', 'Sunny', 'Overcast', 'Overcast', 'Rainy'\n",
    "    ]\n",
    "\n",
    "temp = [\n",
    "    'Hot','Hot','Hot','Mild','Cool','Cool','Cool','Mild',\n",
    "    'Cool','Mild','Mild','Mild','Hot','Mild'\n",
    "    ]\n",
    "\n",
    "play=[\n",
    "    'No','No','Yes','Yes','Yes','No','Yes','No','Yes',\n",
    "    'Yes','Yes','Yes','Yes','No'\n",
    "     ]"
   ]
  },
  {
   "cell_type": "code",
   "execution_count": 6,
   "id": "fd2f91ee",
   "metadata": {},
   "outputs": [
    {
     "name": "stdout",
     "output_type": "stream",
     "text": [
      "Weather:\t [2 2 0 1 1 1 0 2 2 1 2 0 0 1]\n"
     ]
    },
    {
     "data": {
      "text/plain": [
       "'\\n 0 overcast\\n 1 Rainy\\n 2 Sunny\\n'"
      ]
     },
     "execution_count": 6,
     "metadata": {},
     "output_type": "execute_result"
    }
   ],
   "source": [
    "le = preprocessing.LabelEncoder()\n",
    "weather_encoded=le.fit_transform(weather)\n",
    "print(\"Weather:\\t\" ,weather_encoded)\n",
    "\"\"\"\n",
    " 0 overcast\n",
    " 1 Rainy\n",
    " 2 Sunny\n",
    "\"\"\""
   ]
  },
  {
   "cell_type": "code",
   "execution_count": 8,
   "id": "5df15b2e",
   "metadata": {},
   "outputs": [
    {
     "name": "stdout",
     "output_type": "stream",
     "text": [
      "Temp:\t [1 1 1 2 0 0 0 2 0 2 2 2 1 2]\n",
      "Play:\t [0 0 1 1 1 0 1 0 1 1 1 1 1 0]\n"
     ]
    },
    {
     "data": {
      "text/plain": [
       "'\\n0 no\\n1 yes\\n'"
      ]
     },
     "execution_count": 8,
     "metadata": {},
     "output_type": "execute_result"
    }
   ],
   "source": [
    "temp_encoded=le.fit_transform(temp)\n",
    "label=le.fit_transform(play)\n",
    "print(\"Temp:\\t\",temp_encoded)\n",
    "print(\"Play:\\t\",label)\n",
    "\"\"\"\n",
    "0 COol\n",
    "1 hot\n",
    "2 mild\n",
    "\"\"\"\n",
    "\"\"\"\n",
    "0 no\n",
    "1 yes\n",
    "\"\"\""
   ]
  },
  {
   "cell_type": "code",
   "execution_count": 11,
   "id": "fc3d0acb",
   "metadata": {},
   "outputs": [
    {
     "name": "stdout",
     "output_type": "stream",
     "text": [
      "Features:\n",
      " ((1, 2), (1, 2), (1, 0), (2, 1), (0, 1), (0, 1), (0, 0), (2, 2), (0, 2), (2, 1), (2, 2), (2, 0), (1, 0), (2, 1))\n"
     ]
    }
   ],
   "source": [
    "features = tuple(zip(temp_encoded,weather_encoded))\n",
    "print(\"Features:\\n\",features)"
   ]
  },
  {
   "cell_type": "code",
   "execution_count": 12,
   "id": "dbbfe6ae",
   "metadata": {},
   "outputs": [
    {
     "data": {
      "text/plain": [
       "MultinomialNB()"
      ]
     },
     "execution_count": 12,
     "metadata": {},
     "output_type": "execute_result"
    }
   ],
   "source": [
    "model=MultinomialNB()\n",
    "model.fit(features,label)"
   ]
  },
  {
   "cell_type": "code",
   "execution_count": 15,
   "id": "1fa68b3b",
   "metadata": {},
   "outputs": [
    {
     "name": "stdout",
     "output_type": "stream",
     "text": [
      "Predicted Value: [1]\n"
     ]
    }
   ],
   "source": [
    "#  hot(1) and overcast(0)\n",
    "predicted= model.predict([[1,0]]) \n",
    "print(\"Predicted Value:\", predicted)"
   ]
  },
  {
   "cell_type": "code",
   "execution_count": 16,
   "id": "cef72233",
   "metadata": {},
   "outputs": [
    {
     "name": "stdout",
     "output_type": "stream",
     "text": [
      "Predicted Value: [1]\n"
     ]
    }
   ],
   "source": [
    "#  mild(2) sunny(2)\n",
    "predicted= model.predict([[2,1]])\n",
    "print(\"Predicted Value:\", predicted)"
   ]
  },
  {
   "cell_type": "code",
   "execution_count": null,
   "id": "8ac56cea",
   "metadata": {},
   "outputs": [],
   "source": []
  }
 ],
 "metadata": {
  "kernelspec": {
   "display_name": "Python 3 (ipykernel)",
   "language": "python",
   "name": "python3"
  },
  "language_info": {
   "codemirror_mode": {
    "name": "ipython",
    "version": 3
   },
   "file_extension": ".py",
   "mimetype": "text/x-python",
   "name": "python",
   "nbconvert_exporter": "python",
   "pygments_lexer": "ipython3",
   "version": "3.8.0"
  }
 },
 "nbformat": 4,
 "nbformat_minor": 5
}
